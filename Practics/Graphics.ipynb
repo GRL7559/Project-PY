{
 "cells": [
  {
   "cell_type": "markdown",
   "metadata": {},
   "source": [
    "Цель: На основе проанализированного ранее датасета визуализировать набор статистических графиков и диаграмм при помощь библиотеки matplotlib , а также изучить ее базовые функции "
   ]
  },
  {
   "cell_type": "markdown",
   "metadata": {},
   "source": [
    "Ход работы:"
   ]
  },
  {
   "cell_type": "markdown",
   "metadata": {},
   "source": [
    "Создание датасета"
   ]
  },
  {
   "cell_type": "code",
   "execution_count": null,
   "metadata": {},
   "outputs": [],
   "source": [
    "import pandas as pd\n",
    "import numpy as np\n",
    "import matplotlib.pyplot as plt\n",
    "df = pd.read_csv('anime.csv')"
   ]
  },
  {
   "cell_type": "markdown",
   "metadata": {},
   "source": [
    "Создание Линейных графиков"
   ]
  },
  {
   "cell_type": "code",
   "execution_count": null,
   "metadata": {},
   "outputs": [],
   "source": [
    "#график 1"
   ]
  },
  {
   "cell_type": "markdown",
   "metadata": {},
   "source": [
    "описание "
   ]
  },
  {
   "cell_type": "code",
   "execution_count": null,
   "metadata": {},
   "outputs": [],
   "source": [
    "#график 2"
   ]
  },
  {
   "cell_type": "markdown",
   "metadata": {},
   "source": [
    "описание"
   ]
  },
  {
   "cell_type": "code",
   "execution_count": null,
   "metadata": {},
   "outputs": [],
   "source": [
    "#график 3"
   ]
  },
  {
   "cell_type": "markdown",
   "metadata": {},
   "source": [
    "описание"
   ]
  },
  {
   "cell_type": "markdown",
   "metadata": {},
   "source": [
    "Создание столбчатых диаграмм"
   ]
  },
  {
   "cell_type": "code",
   "execution_count": null,
   "metadata": {},
   "outputs": [],
   "source": [
    "#диаграмма 1"
   ]
  },
  {
   "cell_type": "markdown",
   "metadata": {},
   "source": [
    "описание"
   ]
  },
  {
   "cell_type": "code",
   "execution_count": null,
   "metadata": {},
   "outputs": [],
   "source": [
    "#диаграмма 3"
   ]
  },
  {
   "cell_type": "markdown",
   "metadata": {},
   "source": [
    "описание"
   ]
  },
  {
   "cell_type": "code",
   "execution_count": null,
   "metadata": {},
   "outputs": [],
   "source": [
    "#диаграмма 3"
   ]
  },
  {
   "cell_type": "markdown",
   "metadata": {},
   "source": [
    "описание"
   ]
  },
  {
   "cell_type": "markdown",
   "metadata": {},
   "source": [
    "Создание круговых диаграмм"
   ]
  },
  {
   "cell_type": "code",
   "execution_count": null,
   "metadata": {},
   "outputs": [],
   "source": [
    "#диаграмма 1"
   ]
  },
  {
   "cell_type": "markdown",
   "metadata": {},
   "source": [
    "описание"
   ]
  },
  {
   "cell_type": "code",
   "execution_count": null,
   "metadata": {},
   "outputs": [],
   "source": [
    "#диаграмма 2"
   ]
  },
  {
   "cell_type": "markdown",
   "metadata": {},
   "source": [
    "описание"
   ]
  },
  {
   "cell_type": "markdown",
   "metadata": {},
   "source": [
    "Создание диаграмм рассеивания"
   ]
  },
  {
   "cell_type": "code",
   "execution_count": null,
   "metadata": {},
   "outputs": [],
   "source": [
    "#диаграмма 1"
   ]
  },
  {
   "cell_type": "markdown",
   "metadata": {},
   "source": [
    "описание"
   ]
  },
  {
   "cell_type": "code",
   "execution_count": null,
   "metadata": {},
   "outputs": [],
   "source": [
    "#диаграмма 2"
   ]
  },
  {
   "cell_type": "markdown",
   "metadata": {},
   "source": [
    "описание"
   ]
  },
  {
   "cell_type": "markdown",
   "metadata": {},
   "source": [
    "Создание гистограммы"
   ]
  },
  {
   "cell_type": "code",
   "execution_count": null,
   "metadata": {},
   "outputs": [],
   "source": [
    "#гистограмма 1"
   ]
  },
  {
   "cell_type": "markdown",
   "metadata": {},
   "source": [
    "описание"
   ]
  },
  {
   "cell_type": "code",
   "execution_count": null,
   "metadata": {},
   "outputs": [],
   "source": [
    "#гистограмма 2"
   ]
  },
  {
   "cell_type": "markdown",
   "metadata": {},
   "source": [
    "описание"
   ]
  },
  {
   "cell_type": "code",
   "execution_count": null,
   "metadata": {},
   "outputs": [],
   "source": [
    "#гистограмма 3"
   ]
  },
  {
   "cell_type": "markdown",
   "metadata": {},
   "source": [
    "описание"
   ]
  },
  {
   "cell_type": "markdown",
   "metadata": {},
   "source": [
    "Выовод:Была воспроизведена визуализация статистических данных на основе проанализированного ранее датасета при помощь библиотеки matplotlib. В процессе работы были изучены ее базовые функции и возможности"
   ]
  }
 ],
 "metadata": {
  "kernelspec": {
   "display_name": "Python 3",
   "language": "python",
   "name": "python3"
  },
  "language_info": {
   "codemirror_mode": {
    "name": "ipython",
    "version": 3
   },
   "file_extension": ".py",
   "mimetype": "text/x-python",
   "name": "python",
   "nbconvert_exporter": "python",
   "pygments_lexer": "ipython3",
   "version": "3.11.7"
  }
 },
 "nbformat": 4,
 "nbformat_minor": 2
}
